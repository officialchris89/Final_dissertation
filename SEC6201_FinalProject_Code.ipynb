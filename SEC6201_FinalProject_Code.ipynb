{
  "nbformat": 4,
  "nbformat_minor": 0,
  "metadata": {
    "colab": {
      "provenance": []
    },
    "kernelspec": {
      "name": "python3",
      "display_name": "Python 3"
    },
    "language_info": {
      "name": "python"
    }
  },
  "cells": [
    {
      "cell_type": "code",
      "execution_count": null,
      "metadata": {
        "id": "jhl4pCRcNq6L"
      },
      "outputs": [],
      "source": [
        "# IMPORTING PACKAGES (SEC6201_UNDERGRADUATEPROJECT_FINALREPORT_2220020)\n",
        "\n",
        "import pandas as pd # data processing\n",
        "import numpy as np # working with arrays\n",
        "import matplotlib.pyplot as plt # visualization\n",
        "from termcolor import colored as cl # text customization\n",
        "import itertools # advanced tools\n",
        "\n",
        "from sklearn.preprocessing import StandardScaler # data normalization\n",
        "from sklearn.model_selection import train_test_split # data split\n",
        "from sklearn.tree import DecisionTreeClassifier # Decision tree algorithm\n",
        "from sklearn.neighbors import KNeighborsClassifier # KNN algorithm\n",
        "from sklearn.linear_model import LogisticRegression # Logistic regression algorithm\n",
        "from sklearn.svm import SVC # SVM algorithm\n",
        "from sklearn.ensemble import RandomForestClassifier # Random forest tree algorithm\n",
        "from xgboost import XGBClassifier # XGBoost algorithm\n",
        "\n",
        "from sklearn.metrics import confusion_matrix # evaluation metric\n",
        "from sklearn.metrics import accuracy_score # evaluation metric\n",
        "from sklearn.metrics import f1_score # evaluation metric"
      ]
    },
    {
      "cell_type": "code",
      "source": [
        "#EXPLORATORY DATA ANALYSIS (EDA)\n"
      ],
      "metadata": {
        "id": "EVUjghrgead2"
      },
      "execution_count": null,
      "outputs": []
    },
    {
      "cell_type": "code",
      "source": [
        "# IMPORTING DATA AND DISPLAYING FIRST 5 ROWS (SEC6201_UNDERGRADUATEPROJECT_FINALREPORT_2220020)\n",
        "\n",
        "df = pd.read_csv('creditcard.csv')\n",
        "df.drop('Time', axis = 1, inplace = True)\n",
        "\n",
        "print(df.head())"
      ],
      "metadata": {
        "colab": {
          "base_uri": "https://localhost:8080/"
        },
        "id": "fjAISh8fN1RA",
        "outputId": "33ba6a23-67c2-4082-cd07-158f116a3d93"
      },
      "execution_count": null,
      "outputs": [
        {
          "output_type": "stream",
          "name": "stdout",
          "text": [
            "         V1        V2        V3        V4        V5        V6        V7  \\\n",
            "0 -1.359807 -0.072781  2.536347  1.378155 -0.338321  0.462388  0.239599   \n",
            "1  1.191857  0.266151  0.166480  0.448154  0.060018 -0.082361 -0.078803   \n",
            "2 -1.358354 -1.340163  1.773209  0.379780 -0.503198  1.800499  0.791461   \n",
            "3 -0.966272 -0.185226  1.792993 -0.863291 -0.010309  1.247203  0.237609   \n",
            "4 -1.158233  0.877737  1.548718  0.403034 -0.407193  0.095921  0.592941   \n",
            "\n",
            "         V8        V9       V10  ...       V21       V22       V23       V24  \\\n",
            "0  0.098698  0.363787  0.090794  ... -0.018307  0.277838 -0.110474  0.066928   \n",
            "1  0.085102 -0.255425 -0.166974  ... -0.225775 -0.638672  0.101288 -0.339846   \n",
            "2  0.247676 -1.514654  0.207643  ...  0.247998  0.771679  0.909412 -0.689281   \n",
            "3  0.377436 -1.387024 -0.054952  ... -0.108300  0.005274 -0.190321 -1.175575   \n",
            "4 -0.270533  0.817739  0.753074  ... -0.009431  0.798278 -0.137458  0.141267   \n",
            "\n",
            "        V25       V26       V27       V28  Amount  Class  \n",
            "0  0.128539 -0.189115  0.133558 -0.021053  149.62      0  \n",
            "1  0.167170  0.125895 -0.008983  0.014724    2.69      0  \n",
            "2 -0.327642 -0.139097 -0.055353 -0.059752  378.66      0  \n",
            "3  0.647376 -0.221929  0.062723  0.061458  123.50      0  \n",
            "4 -0.206010  0.502292  0.219422  0.215153   69.99      0  \n",
            "\n",
            "[5 rows x 30 columns]\n"
          ]
        }
      ]
    },
    {
      "cell_type": "code",
      "source": [
        "#Defining the data shape (Display of no rows and column) (SEC6201_UNDERGRADUATEPROJECT_FINALREPORT_2220020)\n",
        "\n",
        "df.shape"
      ],
      "metadata": {
        "colab": {
          "base_uri": "https://localhost:8080/"
        },
        "id": "ktQKZT-kSre6",
        "outputId": "be21268e-83a6-4f37-f443-27e1c84eaf00"
      },
      "execution_count": null,
      "outputs": [
        {
          "output_type": "execute_result",
          "data": {
            "text/plain": [
              "(284807, 30)"
            ]
          },
          "metadata": {},
          "execution_count": 7
        }
      ]
    },
    {
      "cell_type": "code",
      "source": [
        "#Checking Dataframe Structure (Checking for missing data) (SEC6201_UNDERGRADUATEPROJECT_FINALREPORT_2220020)\n",
        "\n",
        "df.info()"
      ],
      "metadata": {
        "colab": {
          "base_uri": "https://localhost:8080/"
        },
        "id": "hOMIYlWuTF0p",
        "outputId": "0982d142-7a30-4494-868d-f3550b4270aa"
      },
      "execution_count": null,
      "outputs": [
        {
          "output_type": "stream",
          "name": "stdout",
          "text": [
            "<class 'pandas.core.frame.DataFrame'>\n",
            "RangeIndex: 284807 entries, 0 to 284806\n",
            "Data columns (total 30 columns):\n",
            " #   Column  Non-Null Count   Dtype  \n",
            "---  ------  --------------   -----  \n",
            " 0   V1      284807 non-null  float64\n",
            " 1   V2      284807 non-null  float64\n",
            " 2   V3      284807 non-null  float64\n",
            " 3   V4      284807 non-null  float64\n",
            " 4   V5      284807 non-null  float64\n",
            " 5   V6      284807 non-null  float64\n",
            " 6   V7      284807 non-null  float64\n",
            " 7   V8      284807 non-null  float64\n",
            " 8   V9      284807 non-null  float64\n",
            " 9   V10     284807 non-null  float64\n",
            " 10  V11     284807 non-null  float64\n",
            " 11  V12     284807 non-null  float64\n",
            " 12  V13     284807 non-null  float64\n",
            " 13  V14     284807 non-null  float64\n",
            " 14  V15     284807 non-null  float64\n",
            " 15  V16     284807 non-null  float64\n",
            " 16  V17     284807 non-null  float64\n",
            " 17  V18     284807 non-null  float64\n",
            " 18  V19     284807 non-null  float64\n",
            " 19  V20     284807 non-null  float64\n",
            " 20  V21     284807 non-null  float64\n",
            " 21  V22     284807 non-null  float64\n",
            " 22  V23     284807 non-null  float64\n",
            " 23  V24     284807 non-null  float64\n",
            " 24  V25     284807 non-null  float64\n",
            " 25  V26     284807 non-null  float64\n",
            " 26  V27     284807 non-null  float64\n",
            " 27  V28     284807 non-null  float64\n",
            " 28  Amount  284807 non-null  float64\n",
            " 29  Class   284807 non-null  int64  \n",
            "dtypes: float64(29), int64(1)\n",
            "memory usage: 65.2 MB\n"
          ]
        }
      ]
    },
    {
      "cell_type": "code",
      "source": [
        "#Statistical Summary (Display of values in each column) (SEC6201_UNDERGRADUATEPROJECT_FINALREPORT_2220020)\n",
        "\n",
        "df.describe()"
      ],
      "metadata": {
        "colab": {
          "base_uri": "https://localhost:8080/",
          "height": 394
        },
        "id": "4cttNiQ3Tw2X",
        "outputId": "1d4a6174-4f52-41ad-a780-7e91e51ecca8"
      },
      "execution_count": null,
      "outputs": [
        {
          "output_type": "execute_result",
          "data": {
            "text/plain": [
              "                 V1            V2            V3            V4            V5  \\\n",
              "count  2.848070e+05  2.848070e+05  2.848070e+05  2.848070e+05  2.848070e+05   \n",
              "mean   1.759061e-12 -8.251130e-13 -9.654937e-13  8.321385e-13  1.649999e-13   \n",
              "std    1.958696e+00  1.651309e+00  1.516255e+00  1.415869e+00  1.380247e+00   \n",
              "min   -5.640751e+01 -7.271573e+01 -4.832559e+01 -5.683171e+00 -1.137433e+02   \n",
              "25%   -9.203734e-01 -5.985499e-01 -8.903648e-01 -8.486401e-01 -6.915971e-01   \n",
              "50%    1.810880e-02  6.548556e-02  1.798463e-01 -1.984653e-02 -5.433583e-02   \n",
              "75%    1.315642e+00  8.037239e-01  1.027196e+00  7.433413e-01  6.119264e-01   \n",
              "max    2.454930e+00  2.205773e+01  9.382558e+00  1.687534e+01  3.480167e+01   \n",
              "\n",
              "                 V6            V7            V8            V9           V10  \\\n",
              "count  2.848070e+05  2.848070e+05  2.848070e+05  2.848070e+05  2.848070e+05   \n",
              "mean   4.248366e-13 -3.054600e-13  8.777971e-14 -1.179749e-12  7.092545e-13   \n",
              "std    1.332271e+00  1.237094e+00  1.194353e+00  1.098632e+00  1.088850e+00   \n",
              "min   -2.616051e+01 -4.355724e+01 -7.321672e+01 -1.343407e+01 -2.458826e+01   \n",
              "25%   -7.682956e-01 -5.540759e-01 -2.086297e-01 -6.430976e-01 -5.354257e-01   \n",
              "50%   -2.741871e-01  4.010308e-02  2.235804e-02 -5.142873e-02 -9.291738e-02   \n",
              "75%    3.985649e-01  5.704361e-01  3.273459e-01  5.971390e-01  4.539234e-01   \n",
              "max    7.330163e+01  1.205895e+02  2.000721e+01  1.559499e+01  2.374514e+01   \n",
              "\n",
              "       ...           V21           V22           V23           V24  \\\n",
              "count  ...  2.848070e+05  2.848070e+05  2.848070e+05  2.848070e+05   \n",
              "mean   ... -3.405756e-13 -5.723197e-13 -9.725856e-13  1.464150e-12   \n",
              "std    ...  7.345240e-01  7.257016e-01  6.244603e-01  6.056471e-01   \n",
              "min    ... -3.483038e+01 -1.093314e+01 -4.480774e+01 -2.836627e+00   \n",
              "25%    ... -2.283949e-01 -5.423504e-01 -1.618463e-01 -3.545861e-01   \n",
              "50%    ... -2.945017e-02  6.781943e-03 -1.119293e-02  4.097606e-02   \n",
              "75%    ...  1.863772e-01  5.285536e-01  1.476421e-01  4.395266e-01   \n",
              "max    ...  2.720284e+01  1.050309e+01  2.252841e+01  4.584549e+00   \n",
              "\n",
              "                V25           V26           V27           V28         Amount  \\\n",
              "count  2.848070e+05  2.848070e+05  2.848070e+05  2.848070e+05  284807.000000   \n",
              "mean  -6.987102e-13 -5.617874e-13  3.332082e-12 -3.518874e-12      88.349619   \n",
              "std    5.212781e-01  4.822270e-01  4.036325e-01  3.300833e-01     250.120109   \n",
              "min   -1.029540e+01 -2.604551e+00 -2.256568e+01 -1.543008e+01       0.000000   \n",
              "25%   -3.171451e-01 -3.269839e-01 -7.083953e-02 -5.295979e-02       5.600000   \n",
              "50%    1.659350e-02 -5.213911e-02  1.342146e-03  1.124383e-02      22.000000   \n",
              "75%    3.507156e-01  2.409522e-01  9.104512e-02  7.827995e-02      77.165000   \n",
              "max    7.519589e+00  3.517346e+00  3.161220e+01  3.384781e+01   25691.160000   \n",
              "\n",
              "               Class  \n",
              "count  284807.000000  \n",
              "mean        0.001727  \n",
              "std         0.041527  \n",
              "min         0.000000  \n",
              "25%         0.000000  \n",
              "50%         0.000000  \n",
              "75%         0.000000  \n",
              "max         1.000000  \n",
              "\n",
              "[8 rows x 30 columns]"
            ],
            "text/html": [
              "\n",
              "  <div id=\"df-e5bf2115-9d76-47fc-b2c6-6c4c31d340af\">\n",
              "    <div class=\"colab-df-container\">\n",
              "      <div>\n",
              "<style scoped>\n",
              "    .dataframe tbody tr th:only-of-type {\n",
              "        vertical-align: middle;\n",
              "    }\n",
              "\n",
              "    .dataframe tbody tr th {\n",
              "        vertical-align: top;\n",
              "    }\n",
              "\n",
              "    .dataframe thead th {\n",
              "        text-align: right;\n",
              "    }\n",
              "</style>\n",
              "<table border=\"1\" class=\"dataframe\">\n",
              "  <thead>\n",
              "    <tr style=\"text-align: right;\">\n",
              "      <th></th>\n",
              "      <th>V1</th>\n",
              "      <th>V2</th>\n",
              "      <th>V3</th>\n",
              "      <th>V4</th>\n",
              "      <th>V5</th>\n",
              "      <th>V6</th>\n",
              "      <th>V7</th>\n",
              "      <th>V8</th>\n",
              "      <th>V9</th>\n",
              "      <th>V10</th>\n",
              "      <th>...</th>\n",
              "      <th>V21</th>\n",
              "      <th>V22</th>\n",
              "      <th>V23</th>\n",
              "      <th>V24</th>\n",
              "      <th>V25</th>\n",
              "      <th>V26</th>\n",
              "      <th>V27</th>\n",
              "      <th>V28</th>\n",
              "      <th>Amount</th>\n",
              "      <th>Class</th>\n",
              "    </tr>\n",
              "  </thead>\n",
              "  <tbody>\n",
              "    <tr>\n",
              "      <th>count</th>\n",
              "      <td>2.848070e+05</td>\n",
              "      <td>2.848070e+05</td>\n",
              "      <td>2.848070e+05</td>\n",
              "      <td>2.848070e+05</td>\n",
              "      <td>2.848070e+05</td>\n",
              "      <td>2.848070e+05</td>\n",
              "      <td>2.848070e+05</td>\n",
              "      <td>2.848070e+05</td>\n",
              "      <td>2.848070e+05</td>\n",
              "      <td>2.848070e+05</td>\n",
              "      <td>...</td>\n",
              "      <td>2.848070e+05</td>\n",
              "      <td>2.848070e+05</td>\n",
              "      <td>2.848070e+05</td>\n",
              "      <td>2.848070e+05</td>\n",
              "      <td>2.848070e+05</td>\n",
              "      <td>2.848070e+05</td>\n",
              "      <td>2.848070e+05</td>\n",
              "      <td>2.848070e+05</td>\n",
              "      <td>284807.000000</td>\n",
              "      <td>284807.000000</td>\n",
              "    </tr>\n",
              "    <tr>\n",
              "      <th>mean</th>\n",
              "      <td>1.759061e-12</td>\n",
              "      <td>-8.251130e-13</td>\n",
              "      <td>-9.654937e-13</td>\n",
              "      <td>8.321385e-13</td>\n",
              "      <td>1.649999e-13</td>\n",
              "      <td>4.248366e-13</td>\n",
              "      <td>-3.054600e-13</td>\n",
              "      <td>8.777971e-14</td>\n",
              "      <td>-1.179749e-12</td>\n",
              "      <td>7.092545e-13</td>\n",
              "      <td>...</td>\n",
              "      <td>-3.405756e-13</td>\n",
              "      <td>-5.723197e-13</td>\n",
              "      <td>-9.725856e-13</td>\n",
              "      <td>1.464150e-12</td>\n",
              "      <td>-6.987102e-13</td>\n",
              "      <td>-5.617874e-13</td>\n",
              "      <td>3.332082e-12</td>\n",
              "      <td>-3.518874e-12</td>\n",
              "      <td>88.349619</td>\n",
              "      <td>0.001727</td>\n",
              "    </tr>\n",
              "    <tr>\n",
              "      <th>std</th>\n",
              "      <td>1.958696e+00</td>\n",
              "      <td>1.651309e+00</td>\n",
              "      <td>1.516255e+00</td>\n",
              "      <td>1.415869e+00</td>\n",
              "      <td>1.380247e+00</td>\n",
              "      <td>1.332271e+00</td>\n",
              "      <td>1.237094e+00</td>\n",
              "      <td>1.194353e+00</td>\n",
              "      <td>1.098632e+00</td>\n",
              "      <td>1.088850e+00</td>\n",
              "      <td>...</td>\n",
              "      <td>7.345240e-01</td>\n",
              "      <td>7.257016e-01</td>\n",
              "      <td>6.244603e-01</td>\n",
              "      <td>6.056471e-01</td>\n",
              "      <td>5.212781e-01</td>\n",
              "      <td>4.822270e-01</td>\n",
              "      <td>4.036325e-01</td>\n",
              "      <td>3.300833e-01</td>\n",
              "      <td>250.120109</td>\n",
              "      <td>0.041527</td>\n",
              "    </tr>\n",
              "    <tr>\n",
              "      <th>min</th>\n",
              "      <td>-5.640751e+01</td>\n",
              "      <td>-7.271573e+01</td>\n",
              "      <td>-4.832559e+01</td>\n",
              "      <td>-5.683171e+00</td>\n",
              "      <td>-1.137433e+02</td>\n",
              "      <td>-2.616051e+01</td>\n",
              "      <td>-4.355724e+01</td>\n",
              "      <td>-7.321672e+01</td>\n",
              "      <td>-1.343407e+01</td>\n",
              "      <td>-2.458826e+01</td>\n",
              "      <td>...</td>\n",
              "      <td>-3.483038e+01</td>\n",
              "      <td>-1.093314e+01</td>\n",
              "      <td>-4.480774e+01</td>\n",
              "      <td>-2.836627e+00</td>\n",
              "      <td>-1.029540e+01</td>\n",
              "      <td>-2.604551e+00</td>\n",
              "      <td>-2.256568e+01</td>\n",
              "      <td>-1.543008e+01</td>\n",
              "      <td>0.000000</td>\n",
              "      <td>0.000000</td>\n",
              "    </tr>\n",
              "    <tr>\n",
              "      <th>25%</th>\n",
              "      <td>-9.203734e-01</td>\n",
              "      <td>-5.985499e-01</td>\n",
              "      <td>-8.903648e-01</td>\n",
              "      <td>-8.486401e-01</td>\n",
              "      <td>-6.915971e-01</td>\n",
              "      <td>-7.682956e-01</td>\n",
              "      <td>-5.540759e-01</td>\n",
              "      <td>-2.086297e-01</td>\n",
              "      <td>-6.430976e-01</td>\n",
              "      <td>-5.354257e-01</td>\n",
              "      <td>...</td>\n",
              "      <td>-2.283949e-01</td>\n",
              "      <td>-5.423504e-01</td>\n",
              "      <td>-1.618463e-01</td>\n",
              "      <td>-3.545861e-01</td>\n",
              "      <td>-3.171451e-01</td>\n",
              "      <td>-3.269839e-01</td>\n",
              "      <td>-7.083953e-02</td>\n",
              "      <td>-5.295979e-02</td>\n",
              "      <td>5.600000</td>\n",
              "      <td>0.000000</td>\n",
              "    </tr>\n",
              "    <tr>\n",
              "      <th>50%</th>\n",
              "      <td>1.810880e-02</td>\n",
              "      <td>6.548556e-02</td>\n",
              "      <td>1.798463e-01</td>\n",
              "      <td>-1.984653e-02</td>\n",
              "      <td>-5.433583e-02</td>\n",
              "      <td>-2.741871e-01</td>\n",
              "      <td>4.010308e-02</td>\n",
              "      <td>2.235804e-02</td>\n",
              "      <td>-5.142873e-02</td>\n",
              "      <td>-9.291738e-02</td>\n",
              "      <td>...</td>\n",
              "      <td>-2.945017e-02</td>\n",
              "      <td>6.781943e-03</td>\n",
              "      <td>-1.119293e-02</td>\n",
              "      <td>4.097606e-02</td>\n",
              "      <td>1.659350e-02</td>\n",
              "      <td>-5.213911e-02</td>\n",
              "      <td>1.342146e-03</td>\n",
              "      <td>1.124383e-02</td>\n",
              "      <td>22.000000</td>\n",
              "      <td>0.000000</td>\n",
              "    </tr>\n",
              "    <tr>\n",
              "      <th>75%</th>\n",
              "      <td>1.315642e+00</td>\n",
              "      <td>8.037239e-01</td>\n",
              "      <td>1.027196e+00</td>\n",
              "      <td>7.433413e-01</td>\n",
              "      <td>6.119264e-01</td>\n",
              "      <td>3.985649e-01</td>\n",
              "      <td>5.704361e-01</td>\n",
              "      <td>3.273459e-01</td>\n",
              "      <td>5.971390e-01</td>\n",
              "      <td>4.539234e-01</td>\n",
              "      <td>...</td>\n",
              "      <td>1.863772e-01</td>\n",
              "      <td>5.285536e-01</td>\n",
              "      <td>1.476421e-01</td>\n",
              "      <td>4.395266e-01</td>\n",
              "      <td>3.507156e-01</td>\n",
              "      <td>2.409522e-01</td>\n",
              "      <td>9.104512e-02</td>\n",
              "      <td>7.827995e-02</td>\n",
              "      <td>77.165000</td>\n",
              "      <td>0.000000</td>\n",
              "    </tr>\n",
              "    <tr>\n",
              "      <th>max</th>\n",
              "      <td>2.454930e+00</td>\n",
              "      <td>2.205773e+01</td>\n",
              "      <td>9.382558e+00</td>\n",
              "      <td>1.687534e+01</td>\n",
              "      <td>3.480167e+01</td>\n",
              "      <td>7.330163e+01</td>\n",
              "      <td>1.205895e+02</td>\n",
              "      <td>2.000721e+01</td>\n",
              "      <td>1.559499e+01</td>\n",
              "      <td>2.374514e+01</td>\n",
              "      <td>...</td>\n",
              "      <td>2.720284e+01</td>\n",
              "      <td>1.050309e+01</td>\n",
              "      <td>2.252841e+01</td>\n",
              "      <td>4.584549e+00</td>\n",
              "      <td>7.519589e+00</td>\n",
              "      <td>3.517346e+00</td>\n",
              "      <td>3.161220e+01</td>\n",
              "      <td>3.384781e+01</td>\n",
              "      <td>25691.160000</td>\n",
              "      <td>1.000000</td>\n",
              "    </tr>\n",
              "  </tbody>\n",
              "</table>\n",
              "<p>8 rows × 30 columns</p>\n",
              "</div>\n",
              "      <button class=\"colab-df-convert\" onclick=\"convertToInteractive('df-e5bf2115-9d76-47fc-b2c6-6c4c31d340af')\"\n",
              "              title=\"Convert this dataframe to an interactive table.\"\n",
              "              style=\"display:none;\">\n",
              "        \n",
              "  <svg xmlns=\"http://www.w3.org/2000/svg\" height=\"24px\"viewBox=\"0 0 24 24\"\n",
              "       width=\"24px\">\n",
              "    <path d=\"M0 0h24v24H0V0z\" fill=\"none\"/>\n",
              "    <path d=\"M18.56 5.44l.94 2.06.94-2.06 2.06-.94-2.06-.94-.94-2.06-.94 2.06-2.06.94zm-11 1L8.5 8.5l.94-2.06 2.06-.94-2.06-.94L8.5 2.5l-.94 2.06-2.06.94zm10 10l.94 2.06.94-2.06 2.06-.94-2.06-.94-.94-2.06-.94 2.06-2.06.94z\"/><path d=\"M17.41 7.96l-1.37-1.37c-.4-.4-.92-.59-1.43-.59-.52 0-1.04.2-1.43.59L10.3 9.45l-7.72 7.72c-.78.78-.78 2.05 0 2.83L4 21.41c.39.39.9.59 1.41.59.51 0 1.02-.2 1.41-.59l7.78-7.78 2.81-2.81c.8-.78.8-2.07 0-2.86zM5.41 20L4 18.59l7.72-7.72 1.47 1.35L5.41 20z\"/>\n",
              "  </svg>\n",
              "      </button>\n",
              "      \n",
              "  <style>\n",
              "    .colab-df-container {\n",
              "      display:flex;\n",
              "      flex-wrap:wrap;\n",
              "      gap: 12px;\n",
              "    }\n",
              "\n",
              "    .colab-df-convert {\n",
              "      background-color: #E8F0FE;\n",
              "      border: none;\n",
              "      border-radius: 50%;\n",
              "      cursor: pointer;\n",
              "      display: none;\n",
              "      fill: #1967D2;\n",
              "      height: 32px;\n",
              "      padding: 0 0 0 0;\n",
              "      width: 32px;\n",
              "    }\n",
              "\n",
              "    .colab-df-convert:hover {\n",
              "      background-color: #E2EBFA;\n",
              "      box-shadow: 0px 1px 2px rgba(60, 64, 67, 0.3), 0px 1px 3px 1px rgba(60, 64, 67, 0.15);\n",
              "      fill: #174EA6;\n",
              "    }\n",
              "\n",
              "    [theme=dark] .colab-df-convert {\n",
              "      background-color: #3B4455;\n",
              "      fill: #D2E3FC;\n",
              "    }\n",
              "\n",
              "    [theme=dark] .colab-df-convert:hover {\n",
              "      background-color: #434B5C;\n",
              "      box-shadow: 0px 1px 3px 1px rgba(0, 0, 0, 0.15);\n",
              "      filter: drop-shadow(0px 1px 2px rgba(0, 0, 0, 0.3));\n",
              "      fill: #FFFFFF;\n",
              "    }\n",
              "  </style>\n",
              "\n",
              "      <script>\n",
              "        const buttonEl =\n",
              "          document.querySelector('#df-e5bf2115-9d76-47fc-b2c6-6c4c31d340af button.colab-df-convert');\n",
              "        buttonEl.style.display =\n",
              "          google.colab.kernel.accessAllowed ? 'block' : 'none';\n",
              "\n",
              "        async function convertToInteractive(key) {\n",
              "          const element = document.querySelector('#df-e5bf2115-9d76-47fc-b2c6-6c4c31d340af');\n",
              "          const dataTable =\n",
              "            await google.colab.kernel.invokeFunction('convertToInteractive',\n",
              "                                                     [key], {});\n",
              "          if (!dataTable) return;\n",
              "\n",
              "          const docLinkHtml = 'Like what you see? Visit the ' +\n",
              "            '<a target=\"_blank\" href=https://colab.research.google.com/notebooks/data_table.ipynb>data table notebook</a>'\n",
              "            + ' to learn more about interactive tables.';\n",
              "          element.innerHTML = '';\n",
              "          dataTable['output_type'] = 'display_data';\n",
              "          await google.colab.output.renderOutput(dataTable, element);\n",
              "          const docLink = document.createElement('div');\n",
              "          docLink.innerHTML = docLinkHtml;\n",
              "          element.appendChild(docLink);\n",
              "        }\n",
              "      </script>\n",
              "    </div>\n",
              "  </div>\n",
              "  "
            ]
          },
          "metadata": {},
          "execution_count": 9
        }
      ]
    },
    {
      "cell_type": "code",
      "source": [
        "# Checking percentage of missing values in the columns (SEC6201_UNDERGRADUATEPROJECT_FINALREPORT_2220020)\n",
        "\n",
        "df_missing_columns = (round(((df.isnull().sum()/len(df.index))*100),2).to_frame('null')).sort_values('null', ascending=False)\n",
        "df_missing_columns"
      ],
      "metadata": {
        "colab": {
          "base_uri": "https://localhost:8080/",
          "height": 990
        },
        "id": "c3NMjvefYHYO",
        "outputId": "6316dbdc-126b-4202-c9cf-968a4517d7de"
      },
      "execution_count": null,
      "outputs": [
        {
          "output_type": "execute_result",
          "data": {
            "text/plain": [
              "        null\n",
              "V1       0.0\n",
              "V2       0.0\n",
              "Amount   0.0\n",
              "V28      0.0\n",
              "V27      0.0\n",
              "V26      0.0\n",
              "V25      0.0\n",
              "V24      0.0\n",
              "V23      0.0\n",
              "V22      0.0\n",
              "V21      0.0\n",
              "V20      0.0\n",
              "V19      0.0\n",
              "V18      0.0\n",
              "V17      0.0\n",
              "V16      0.0\n",
              "V15      0.0\n",
              "V14      0.0\n",
              "V13      0.0\n",
              "V12      0.0\n",
              "V11      0.0\n",
              "V10      0.0\n",
              "V9       0.0\n",
              "V8       0.0\n",
              "V7       0.0\n",
              "V6       0.0\n",
              "V5       0.0\n",
              "V4       0.0\n",
              "V3       0.0\n",
              "Class    0.0"
            ],
            "text/html": [
              "\n",
              "  <div id=\"df-42a23d37-e4c0-402c-9c3e-66274c82833e\">\n",
              "    <div class=\"colab-df-container\">\n",
              "      <div>\n",
              "<style scoped>\n",
              "    .dataframe tbody tr th:only-of-type {\n",
              "        vertical-align: middle;\n",
              "    }\n",
              "\n",
              "    .dataframe tbody tr th {\n",
              "        vertical-align: top;\n",
              "    }\n",
              "\n",
              "    .dataframe thead th {\n",
              "        text-align: right;\n",
              "    }\n",
              "</style>\n",
              "<table border=\"1\" class=\"dataframe\">\n",
              "  <thead>\n",
              "    <tr style=\"text-align: right;\">\n",
              "      <th></th>\n",
              "      <th>null</th>\n",
              "    </tr>\n",
              "  </thead>\n",
              "  <tbody>\n",
              "    <tr>\n",
              "      <th>V1</th>\n",
              "      <td>0.0</td>\n",
              "    </tr>\n",
              "    <tr>\n",
              "      <th>V2</th>\n",
              "      <td>0.0</td>\n",
              "    </tr>\n",
              "    <tr>\n",
              "      <th>Amount</th>\n",
              "      <td>0.0</td>\n",
              "    </tr>\n",
              "    <tr>\n",
              "      <th>V28</th>\n",
              "      <td>0.0</td>\n",
              "    </tr>\n",
              "    <tr>\n",
              "      <th>V27</th>\n",
              "      <td>0.0</td>\n",
              "    </tr>\n",
              "    <tr>\n",
              "      <th>V26</th>\n",
              "      <td>0.0</td>\n",
              "    </tr>\n",
              "    <tr>\n",
              "      <th>V25</th>\n",
              "      <td>0.0</td>\n",
              "    </tr>\n",
              "    <tr>\n",
              "      <th>V24</th>\n",
              "      <td>0.0</td>\n",
              "    </tr>\n",
              "    <tr>\n",
              "      <th>V23</th>\n",
              "      <td>0.0</td>\n",
              "    </tr>\n",
              "    <tr>\n",
              "      <th>V22</th>\n",
              "      <td>0.0</td>\n",
              "    </tr>\n",
              "    <tr>\n",
              "      <th>V21</th>\n",
              "      <td>0.0</td>\n",
              "    </tr>\n",
              "    <tr>\n",
              "      <th>V20</th>\n",
              "      <td>0.0</td>\n",
              "    </tr>\n",
              "    <tr>\n",
              "      <th>V19</th>\n",
              "      <td>0.0</td>\n",
              "    </tr>\n",
              "    <tr>\n",
              "      <th>V18</th>\n",
              "      <td>0.0</td>\n",
              "    </tr>\n",
              "    <tr>\n",
              "      <th>V17</th>\n",
              "      <td>0.0</td>\n",
              "    </tr>\n",
              "    <tr>\n",
              "      <th>V16</th>\n",
              "      <td>0.0</td>\n",
              "    </tr>\n",
              "    <tr>\n",
              "      <th>V15</th>\n",
              "      <td>0.0</td>\n",
              "    </tr>\n",
              "    <tr>\n",
              "      <th>V14</th>\n",
              "      <td>0.0</td>\n",
              "    </tr>\n",
              "    <tr>\n",
              "      <th>V13</th>\n",
              "      <td>0.0</td>\n",
              "    </tr>\n",
              "    <tr>\n",
              "      <th>V12</th>\n",
              "      <td>0.0</td>\n",
              "    </tr>\n",
              "    <tr>\n",
              "      <th>V11</th>\n",
              "      <td>0.0</td>\n",
              "    </tr>\n",
              "    <tr>\n",
              "      <th>V10</th>\n",
              "      <td>0.0</td>\n",
              "    </tr>\n",
              "    <tr>\n",
              "      <th>V9</th>\n",
              "      <td>0.0</td>\n",
              "    </tr>\n",
              "    <tr>\n",
              "      <th>V8</th>\n",
              "      <td>0.0</td>\n",
              "    </tr>\n",
              "    <tr>\n",
              "      <th>V7</th>\n",
              "      <td>0.0</td>\n",
              "    </tr>\n",
              "    <tr>\n",
              "      <th>V6</th>\n",
              "      <td>0.0</td>\n",
              "    </tr>\n",
              "    <tr>\n",
              "      <th>V5</th>\n",
              "      <td>0.0</td>\n",
              "    </tr>\n",
              "    <tr>\n",
              "      <th>V4</th>\n",
              "      <td>0.0</td>\n",
              "    </tr>\n",
              "    <tr>\n",
              "      <th>V3</th>\n",
              "      <td>0.0</td>\n",
              "    </tr>\n",
              "    <tr>\n",
              "      <th>Class</th>\n",
              "      <td>0.0</td>\n",
              "    </tr>\n",
              "  </tbody>\n",
              "</table>\n",
              "</div>\n",
              "      <button class=\"colab-df-convert\" onclick=\"convertToInteractive('df-42a23d37-e4c0-402c-9c3e-66274c82833e')\"\n",
              "              title=\"Convert this dataframe to an interactive table.\"\n",
              "              style=\"display:none;\">\n",
              "        \n",
              "  <svg xmlns=\"http://www.w3.org/2000/svg\" height=\"24px\"viewBox=\"0 0 24 24\"\n",
              "       width=\"24px\">\n",
              "    <path d=\"M0 0h24v24H0V0z\" fill=\"none\"/>\n",
              "    <path d=\"M18.56 5.44l.94 2.06.94-2.06 2.06-.94-2.06-.94-.94-2.06-.94 2.06-2.06.94zm-11 1L8.5 8.5l.94-2.06 2.06-.94-2.06-.94L8.5 2.5l-.94 2.06-2.06.94zm10 10l.94 2.06.94-2.06 2.06-.94-2.06-.94-.94-2.06-.94 2.06-2.06.94z\"/><path d=\"M17.41 7.96l-1.37-1.37c-.4-.4-.92-.59-1.43-.59-.52 0-1.04.2-1.43.59L10.3 9.45l-7.72 7.72c-.78.78-.78 2.05 0 2.83L4 21.41c.39.39.9.59 1.41.59.51 0 1.02-.2 1.41-.59l7.78-7.78 2.81-2.81c.8-.78.8-2.07 0-2.86zM5.41 20L4 18.59l7.72-7.72 1.47 1.35L5.41 20z\"/>\n",
              "  </svg>\n",
              "      </button>\n",
              "      \n",
              "  <style>\n",
              "    .colab-df-container {\n",
              "      display:flex;\n",
              "      flex-wrap:wrap;\n",
              "      gap: 12px;\n",
              "    }\n",
              "\n",
              "    .colab-df-convert {\n",
              "      background-color: #E8F0FE;\n",
              "      border: none;\n",
              "      border-radius: 50%;\n",
              "      cursor: pointer;\n",
              "      display: none;\n",
              "      fill: #1967D2;\n",
              "      height: 32px;\n",
              "      padding: 0 0 0 0;\n",
              "      width: 32px;\n",
              "    }\n",
              "\n",
              "    .colab-df-convert:hover {\n",
              "      background-color: #E2EBFA;\n",
              "      box-shadow: 0px 1px 2px rgba(60, 64, 67, 0.3), 0px 1px 3px 1px rgba(60, 64, 67, 0.15);\n",
              "      fill: #174EA6;\n",
              "    }\n",
              "\n",
              "    [theme=dark] .colab-df-convert {\n",
              "      background-color: #3B4455;\n",
              "      fill: #D2E3FC;\n",
              "    }\n",
              "\n",
              "    [theme=dark] .colab-df-convert:hover {\n",
              "      background-color: #434B5C;\n",
              "      box-shadow: 0px 1px 3px 1px rgba(0, 0, 0, 0.15);\n",
              "      filter: drop-shadow(0px 1px 2px rgba(0, 0, 0, 0.3));\n",
              "      fill: #FFFFFF;\n",
              "    }\n",
              "  </style>\n",
              "\n",
              "      <script>\n",
              "        const buttonEl =\n",
              "          document.querySelector('#df-42a23d37-e4c0-402c-9c3e-66274c82833e button.colab-df-convert');\n",
              "        buttonEl.style.display =\n",
              "          google.colab.kernel.accessAllowed ? 'block' : 'none';\n",
              "\n",
              "        async function convertToInteractive(key) {\n",
              "          const element = document.querySelector('#df-42a23d37-e4c0-402c-9c3e-66274c82833e');\n",
              "          const dataTable =\n",
              "            await google.colab.kernel.invokeFunction('convertToInteractive',\n",
              "                                                     [key], {});\n",
              "          if (!dataTable) return;\n",
              "\n",
              "          const docLinkHtml = 'Like what you see? Visit the ' +\n",
              "            '<a target=\"_blank\" href=https://colab.research.google.com/notebooks/data_table.ipynb>data table notebook</a>'\n",
              "            + ' to learn more about interactive tables.';\n",
              "          element.innerHTML = '';\n",
              "          dataTable['output_type'] = 'display_data';\n",
              "          await google.colab.output.renderOutput(dataTable, element);\n",
              "          const docLink = document.createElement('div');\n",
              "          docLink.innerHTML = docLinkHtml;\n",
              "          element.appendChild(docLink);\n",
              "        }\n",
              "      </script>\n",
              "    </div>\n",
              "  </div>\n",
              "  "
            ]
          },
          "metadata": {},
          "execution_count": 10
        }
      ]
    },
    {
      "cell_type": "code",
      "source": [
        "#Checking Distribution of the classes (SEC6201_UNDERGRADUATEPROJECT_FINALREPORT_2220020)\n",
        "\n",
        "classes = df['Class'].value_counts()\n",
        "classes\n",
        "\n",
        "\n"
      ],
      "metadata": {
        "colab": {
          "base_uri": "https://localhost:8080/"
        },
        "id": "8zxNFsnubKQ6",
        "outputId": "b0b3f0f7-1637-48b2-8c33-7a3e33c64d34"
      },
      "execution_count": null,
      "outputs": [
        {
          "output_type": "execute_result",
          "data": {
            "text/plain": [
              "0    284315\n",
              "1       492\n",
              "Name: Class, dtype: int64"
            ]
          },
          "metadata": {},
          "execution_count": 11
        }
      ]
    },
    {
      "cell_type": "code",
      "source": [
        "normal_share = round((classes[0]/df['Class'].count()*100),2)\n",
        "normal_share"
      ],
      "metadata": {
        "colab": {
          "base_uri": "https://localhost:8080/"
        },
        "id": "rpurVOh8cBTn",
        "outputId": "b6b02bac-c138-461a-daab-c319f56899d8"
      },
      "execution_count": null,
      "outputs": [
        {
          "output_type": "execute_result",
          "data": {
            "text/plain": [
              "99.83"
            ]
          },
          "metadata": {},
          "execution_count": 12
        }
      ]
    },
    {
      "cell_type": "code",
      "source": [
        "fraud_share = round((classes[1]/df['Class'].count()*100),2)\n",
        "fraud_share"
      ],
      "metadata": {
        "colab": {
          "base_uri": "https://localhost:8080/"
        },
        "id": "sNDrOTZ0cVoV",
        "outputId": "86ae3f10-f48d-4008-97e5-aef9a9c73ee0"
      },
      "execution_count": null,
      "outputs": [
        {
          "output_type": "execute_result",
          "data": {
            "text/plain": [
              "0.17"
            ]
          },
          "metadata": {},
          "execution_count": 13
        }
      ]
    },
    {
      "cell_type": "code",
      "source": [
        "#Understanding Distribution of the classes (SEC6201_UNDERGRADUATEPROJECT_FINALREPORT_2220020)\n",
        "\n",
        "cases = len(df)\n",
        "nonfraud_count = len(df[df.Class == 0])\n",
        "fraud_count = len(df[df.Class == 1])\n",
        "fraud_percentage = round(fraud_count/nonfraud_count*100, 2)\n",
        "\n",
        "print(cl('CASE COUNT', attrs = ['bold']))\n",
        "print(cl('--------------------------------------------', attrs = ['bold']))\n",
        "print(cl('Total number of cases are {}'.format(cases), attrs = ['bold']))\n",
        "print(cl('Number of Non-fraud cases are {}'.format(nonfraud_count), attrs = ['bold']))\n",
        "print(cl('Number of Non-fraud cases are {}'.format(fraud_count), attrs = ['bold']))\n",
        "print(cl('Percentage of fraud cases is {}'.format(fraud_percentage), attrs = ['bold']))\n",
        "print(cl('--------------------------------------------', attrs = ['bold']))"
      ],
      "metadata": {
        "colab": {
          "base_uri": "https://localhost:8080/"
        },
        "id": "gCSOx_WMcXK_",
        "outputId": "80eaa5fd-0f41-4221-e253-839d94bd28f1"
      },
      "execution_count": null,
      "outputs": [
        {
          "output_type": "stream",
          "name": "stdout",
          "text": [
            "CASE COUNT\n",
            "--------------------------------------------\n",
            "Total number of cases are 284807\n",
            "Number of Non-fraud cases are 284315\n",
            "Number of Non-fraud cases are 492\n",
            "Percentage of fraud cases is 0.17\n",
            "--------------------------------------------\n"
          ]
        }
      ]
    },
    {
      "cell_type": "code",
      "source": [
        "#Discriptive statistical Display of the Amount class (SEC6201_UNDERGRADUATEPROJECT_FINALREPORT_2220020)\n",
        "\n",
        "\n",
        "nonfraud_cases = df[df.Class == 0]\n",
        "fraud_cases = df[df.Class == 1]\n",
        "\n",
        "print(cl('CASE AMOUNT STATISTICS', attrs = ['bold']))\n",
        "print(cl('--------------------------------------------', attrs = ['bold']))\n",
        "print(cl('NON-FRAUD CASE AMOUNT STATS', attrs = ['bold']))\n",
        "print(nonfraud_cases.Amount.describe())\n",
        "print(cl('--------------------------------------------', attrs = ['bold']))\n",
        "print(cl('FRAUD CASE AMOUNT STATS', attrs = ['bold']))\n",
        "print(fraud_cases.Amount.describe())\n",
        "print(cl('--------------------------------------------', attrs = ['bold']))"
      ],
      "metadata": {
        "colab": {
          "base_uri": "https://localhost:8080/"
        },
        "id": "aPJbmzvmc1fn",
        "outputId": "663e5263-8ab8-4d30-f152-97e8382c3cdd"
      },
      "execution_count": null,
      "outputs": [
        {
          "output_type": "stream",
          "name": "stdout",
          "text": [
            "CASE AMOUNT STATISTICS\n",
            "--------------------------------------------\n",
            "NON-FRAUD CASE AMOUNT STATS\n",
            "count    284315.000000\n",
            "mean         88.291022\n",
            "std         250.105092\n",
            "min           0.000000\n",
            "25%           5.650000\n",
            "50%          22.000000\n",
            "75%          77.050000\n",
            "max       25691.160000\n",
            "Name: Amount, dtype: float64\n",
            "--------------------------------------------\n",
            "FRAUD CASE AMOUNT STATS\n",
            "count     492.000000\n",
            "mean      122.211321\n",
            "std       256.683288\n",
            "min         0.000000\n",
            "25%         1.000000\n",
            "50%         9.250000\n",
            "75%       105.890000\n",
            "max      2125.870000\n",
            "Name: Amount, dtype: float64\n",
            "--------------------------------------------\n"
          ]
        }
      ]
    },
    {
      "cell_type": "code",
      "source": [
        "# Bar plot Visualisation of cases_(SEC6201_UNDERGRADUATEPROJECT_FINALREPORT_2220020)\n",
        "\n",
        "nonfraud_count = len(df[df.Class == 0])\n",
        "fraud_count = len(df[df.Class == 1])\n",
        "\n",
        "# Create a bar plot\n",
        "plt.bar(['Non-Fraud', 'Fraud'], [nonfraud_count, fraud_count])\n",
        "plt.title('Number of Fraudulent vs Non-Fraudulent Transactions')\n",
        "plt.xlabel('Transaction Type')\n",
        "plt.ylabel('Count')\n",
        "plt.show()"
      ],
      "metadata": {
        "colab": {
          "base_uri": "https://localhost:8080/",
          "height": 472
        },
        "id": "XCqbJaTkh44w",
        "outputId": "2d9cb57d-3d39-4681-fb1f-c0b3e7fa4490"
      },
      "execution_count": null,
      "outputs": [
        {
          "output_type": "display_data",
          "data": {
            "text/plain": [
              "<Figure size 640x480 with 1 Axes>"
            ],
            "image/png": "[encoded data removed]"
          },
          "metadata": {}
        }
      ]
    },
    {
      "cell_type": "code",
      "source": [
        "# Bar plot Visualisation of percentage of cases_(SEC6201_UNDERGRADUATEPROJECT_FINALREPORT_2220020)\n",
        "\n",
        "# Get the percentage of non-fraudulent and fraudulent cases\n",
        "nonfraud_pct = round(len(df[df.Class == 0]) / len(df) * 100, 2)\n",
        "fraud_pct = round(len(df[df.Class == 1]) / len(df) * 100, 2)\n",
        "\n",
        "# Create a bar plot\n",
        "plt.bar(['Non-Fraud', 'Fraud'], [nonfraud_pct, fraud_pct])\n",
        "plt.title('Percentage of Fraudulent vs Non-Fraudulent Transactions')\n",
        "plt.xlabel('Transaction Type')\n",
        "plt.ylabel('Percentage')\n",
        "plt.show()"
      ],
      "metadata": {
        "colab": {
          "base_uri": "https://localhost:8080/",
          "height": 472
        },
        "id": "Z-QDRPGJj3_V",
        "outputId": "8455f722-fcf9-48e3-c30b-5233be783766"
      },
      "execution_count": null,
      "outputs": [
        {
          "output_type": "display_data",
          "data": {
            "text/plain": [
              "<Figure size 640x480 with 1 Axes>"
            ],
            "image/png": "[encoded data removed]"
          },
          "metadata": {}
        }
      ]
    },
    {
      "cell_type": "code",
      "source": [
        "#Feature_Scaling using standardscalar (Normalising the Amount features to have similar range) (SEC6201_UNDERGRADUATEPROJECT_FINALREPORT_2220020) \n",
        "\n",
        "sc = StandardScaler()\n",
        "amount = df['Amount'].values\n",
        "\n",
        "df['Amount'] = sc.fit_transform(amount.reshape(-1, 1))\n",
        "\n",
        "print(cl(df['Amount'].head(10), attrs = ['bold']))"
      ],
      "metadata": {
        "colab": {
          "base_uri": "https://localhost:8080/"
        },
        "id": "4nGz7WSFlG6I",
        "outputId": "f9505d61-d6bd-4162-96fc-6779307e0e45"
      },
      "execution_count": null,
      "outputs": [
        {
          "output_type": "stream",
          "name": "stdout",
          "text": [
            "0    0.244964\n",
            "1   -0.342475\n",
            "2    1.160686\n",
            "3    0.140534\n",
            "4   -0.073403\n",
            "5   -0.338556\n",
            "6   -0.333279\n",
            "7   -0.190107\n",
            "8    0.019392\n",
            "9   -0.338516\n",
            "Name: Amount, dtype: float64\n"
          ]
        }
      ]
    },
    {
      "cell_type": "code",
      "source": [
        "# DATA SPLITTING {Into Test and Train sets} (SEC6201_UNDERGRADUATEPROJECT_FINALREPORT_2220020)\n",
        "\n",
        "X = df.drop('Class', axis = 1).values\n",
        "y = df['Class'].values\n",
        "\n",
        "X_train, X_test, y_train, y_test = train_test_split(X, y, test_size = 0.2, random_state = 0)\n",
        "\n",
        "print(cl('X_train samples : ', attrs = ['bold']), X_train[:1])\n",
        "\n",
        "print(cl('X_test samples : ', attrs = ['bold']), X_test[0:1])\n",
        "\n",
        "print(cl('y_train samples : ', attrs = ['bold']), y_train[0:20])\n",
        "\n",
        "print(cl('y_test samples : ', attrs = ['bold']), y_test[0:20])"
      ],
      "metadata": {
        "colab": {
          "base_uri": "https://localhost:8080/"
        },
        "id": "srcwmK-H0TL5",
        "outputId": "2fd4e853-21cb-42f0-d065-5889303b80e2"
      },
      "execution_count": null,
      "outputs": [
        {
          "output_type": "stream",
          "name": "stdout",
          "text": [
            "X_train samples :  [[-1.11504743  1.03558276  0.80071244 -1.06039825  0.03262117  0.85342216\n",
            "  -0.61424348 -3.23116112  1.53994798 -0.81690879 -1.30559201  0.1081772\n",
            "  -0.85960958 -0.07193421  0.90665563 -1.72092961  0.79785322 -0.0067594\n",
            "   1.95677806 -0.64489557  3.02038533 -0.53961798  0.03315649 -0.77494577\n",
            "   0.10586781 -0.43085348  0.22973694 -0.0705913  -0.30145418]]\n",
            "X_test samples :  [[-0.32333357  1.05745525 -0.04834115 -0.60720431  1.25982115 -0.09176072\n",
            "   1.1591015  -0.12433461 -0.17463954 -1.64440064 -1.11886302  0.20264731\n",
            "   1.14596495 -1.80235956 -0.24717793 -0.06094535  0.84660574  0.37945439\n",
            "   0.84726225  0.18640942 -0.20709827 -0.43389027 -0.26161328 -0.04665061\n",
            "   0.2115123   0.00829721  0.10849443  0.16113917 -0.19330595]]\n",
            "y_train samples :  [0 0 0 0 0 0 0 0 0 0 0 0 0 0 0 0 0 0 0 0]\n",
            "y_test samples :  [0 0 0 0 0 0 0 0 0 0 0 0 0 0 0 0 0 0 0 0]\n"
          ]
        }
      ]
    },
    {
      "cell_type": "code",
      "source": [
        "# MODELING (Building the classification models) (SEC6201_UNDERGRADUATEPROJECT_FINALREPORT_2220020)\n",
        "\n",
        "# 1. Decision Tree\n",
        "\n",
        "tree_model = DecisionTreeClassifier(max_depth = 4, criterion = 'entropy')\n",
        "tree_model.fit(X_train, y_train)\n",
        "tree_yhat = tree_model.predict(X_test)\n",
        "\n",
        "# 2. K-Nearest Neighbors\n",
        "\n",
        "n = 5\n",
        "\n",
        "knn = KNeighborsClassifier(n_neighbors = n)\n",
        "knn.fit(X_train, y_train)\n",
        "knn_yhat = knn.predict(X_test)\n",
        "\n",
        "# 3. Logistic Regression\n",
        "\n",
        "lr = LogisticRegression()\n",
        "lr.fit(X_train, y_train)\n",
        "lr_yhat = lr.predict(X_test)\n",
        "\n",
        "# 4. SVM \n",
        "\n",
        "svm = SVC()\n",
        "svm.fit(X_train, y_train)\n",
        "svm_yhat = svm.predict(X_test)\n",
        "\n",
        "# 5. Random Forest Tree\n",
        "\n",
        "rf = RandomForestClassifier(max_depth = 4)\n",
        "rf.fit(X_train, y_train)\n",
        "rf_yhat = rf.predict(X_test)\n",
        "\n",
        "# 6. XGBoost\n",
        "\n",
        "xgb = XGBClassifier(max_depth = 4)\n",
        "xgb.fit(X_train, y_train)\n",
        "xgb_yhat = xgb.predict(X_test)"
      ],
      "metadata": {
        "id": "1ge7AXXr5Q-o"
      },
      "execution_count": null,
      "outputs": []
    },
    {
      "cell_type": "code",
      "source": [
        "#Evaluation and Results (SEC6201_UNDERGRADUATEPROJECT_FINALREPORT_2220020)\n",
        "\n",
        "# 1. Accuracy score\n",
        "\n",
        "print(cl('ACCURACY SCORE', attrs = ['bold']))\n",
        "print(cl('------------------------------------------------------------------------', attrs = ['bold']))\n",
        "print(cl('Accuracy score of the Decision Tree model is {}'.format(accuracy_score(y_test, tree_yhat)), attrs = ['bold']))\n",
        "print(cl('------------------------------------------------------------------------', attrs = ['bold']))\n",
        "print(cl('Accuracy score of the KNN model is {}'.format(accuracy_score(y_test, knn_yhat)), attrs = ['bold'], color = 'green'))\n",
        "print(cl('------------------------------------------------------------------------', attrs = ['bold']))\n",
        "print(cl('Accuracy score of the Logistic Regression model is {}'.format(accuracy_score(y_test, lr_yhat)), attrs = ['bold'], color = 'red'))\n",
        "print(cl('------------------------------------------------------------------------', attrs = ['bold']))\n",
        "print(cl('Accuracy score of the SVM model is {}'.format(accuracy_score(y_test, svm_yhat)), attrs = ['bold']))\n",
        "print(cl('------------------------------------------------------------------------', attrs = ['bold']))\n",
        "print(cl('Accuracy score of the Random Forest Tree model is {}'.format(accuracy_score(y_test, rf_yhat)), attrs = ['bold']))\n",
        "print(cl('------------------------------------------------------------------------', attrs = ['bold']))\n",
        "print(cl('Accuracy score of the XGBoost model is {}'.format(accuracy_score(y_test, xgb_yhat)), attrs = ['bold']))\n",
        "print(cl('------------------------------------------------------------------------', attrs = ['bold']))"
      ],
      "metadata": {
        "colab": {
          "base_uri": "https://localhost:8080/"
        },
        "id": "cETghJX-2zpd",
        "outputId": "8ca21996-200e-4b0e-bf87-907661dae07d"
      },
      "execution_count": null,
      "outputs": [
        {
          "output_type": "stream",
          "name": "stdout",
          "text": [
            "ACCURACY SCORE\n",
            "------------------------------------------------------------------------\n",
            "Accuracy score of the Decision Tree model is 0.9993679997191109\n",
            "------------------------------------------------------------------------\n",
            "Accuracy score of the KNN model is 0.9995259997893332\n",
            "------------------------------------------------------------------------\n",
            "Accuracy score of the Logistic Regression model is 0.9991924440855307\n",
            "------------------------------------------------------------------------\n",
            "Accuracy score of the SVM model is 0.9993153330290369\n",
            "------------------------------------------------------------------------\n",
            "Accuracy score of the Random Forest Tree model is 0.9992977774656788\n",
            "------------------------------------------------------------------------\n",
            "Accuracy score of the XGBoost model is 0.9994908886626171\n",
            "------------------------------------------------------------------------\n"
          ]
        }
      ]
    },
    {
      "cell_type": "code",
      "source": [
        "# 2. F1 score (SEC6201_UNDERGRADUATEPROJECT_FINALREPORT_2220020)\n",
        "\n",
        "print(cl('F1 SCORE', attrs = ['bold']))\n",
        "print(cl('------------------------------------------------------------------------', attrs = ['bold']))\n",
        "print(cl('F1 score of the Decision Tree model is {}'.format(f1_score(y_test, tree_yhat)), attrs = ['bold']))\n",
        "print(cl('------------------------------------------------------------------------', attrs = ['bold']))\n",
        "print(cl('F1 score of the KNN model is {}'.format(f1_score(y_test, knn_yhat)), attrs = ['bold'], color = 'green'))\n",
        "print(cl('------------------------------------------------------------------------', attrs = ['bold']))\n",
        "print(cl('F1 score of the Logistic Regression model is {}'.format(f1_score(y_test, lr_yhat)), attrs = ['bold'], color = 'red'))\n",
        "print(cl('------------------------------------------------------------------------', attrs = ['bold']))\n",
        "print(cl('F1 score of the SVM model is {}'.format(f1_score(y_test, svm_yhat)), attrs = ['bold']))\n",
        "print(cl('------------------------------------------------------------------------', attrs = ['bold']))\n",
        "print(cl('F1 score of the Random Forest Tree model is {}'.format(f1_score(y_test, rf_yhat)), attrs = ['bold']))\n",
        "print(cl('------------------------------------------------------------------------', attrs = ['bold']))\n",
        "print(cl('F1 score of the XGBoost model is {}'.format(f1_score(y_test, xgb_yhat)), attrs = ['bold']))\n",
        "print(cl('------------------------------------------------------------------------', attrs = ['bold']))"
      ],
      "metadata": {
        "colab": {
          "base_uri": "https://localhost:8080/"
        },
        "id": "-u3Xy1qvWR3Q",
        "outputId": "cd326775-a602-4215-b041-8c794c4e7dc7"
      },
      "execution_count": null,
      "outputs": [
        {
          "output_type": "stream",
          "name": "stdout",
          "text": [
            "F1 SCORE\n",
            "------------------------------------------------------------------------\n",
            "F1 score of the Decision Tree model is 0.8105263157894738\n",
            "------------------------------------------------------------------------\n",
            "F1 score of the KNN model is 0.8571428571428572\n",
            "------------------------------------------------------------------------\n",
            "F1 score of the Logistic Regression model is 0.7356321839080459\n",
            "------------------------------------------------------------------------\n",
            "F1 score of the SVM model is 0.7771428571428572\n",
            "------------------------------------------------------------------------\n",
            "F1 score of the Random Forest Tree model is 0.7727272727272727\n",
            "------------------------------------------------------------------------\n",
            "F1 score of the XGBoost model is 0.8449197860962566\n",
            "------------------------------------------------------------------------\n"
          ]
        }
      ]
    },
    {
      "cell_type": "code",
      "source": [
        "# 3. Confusion Matrix (SEC6201_UNDERGRADUATEPROJECT_FINALREPORT_2220020)\n",
        "\n",
        "# defining the plot function\n",
        "\n",
        "def plot_confusion_matrix(cm, classes, title, normalize = False, cmap = plt.cm.Blues):\n",
        "    title = 'Confusion Matrix of {}'.format(title)\n",
        "    if normalize:\n",
        "        cm = cm.astype(float) / cm.sum(axis=1)[:, np.newaxis]\n",
        "\n",
        "    plt.imshow(cm, interpolation = 'nearest', cmap = cmap)\n",
        "    plt.title(title)\n",
        "    plt.colorbar()\n",
        "    tick_marks = np.arange(len(classes))\n",
        "    plt.xticks(tick_marks, classes, rotation = 45)\n",
        "    plt.yticks(tick_marks, classes)\n",
        "\n",
        "    fmt = '.2f' if normalize else 'd'\n",
        "    thresh = cm.max() / 2.\n",
        "    for i, j in itertools.product(range(cm.shape[0]), range(cm.shape[1])):\n",
        "        plt.text(j, i, format(cm[i, j], fmt),\n",
        "                 horizontalalignment = 'center',\n",
        "                 color = 'white' if cm[i, j] > thresh else 'black')\n",
        "\n",
        "    plt.tight_layout()\n",
        "    plt.ylabel('True label')\n",
        "    plt.xlabel('Predicted label')\n",
        "\n",
        "# Compute confusion matrix for the models (SEC6201_UNDERGRADUATEPROJECT_FINALREPORT_2220020)\n",
        "\n",
        "tree_matrix = confusion_matrix(y_test, tree_yhat, labels = [0, 1]) # Decision Tree\n",
        "knn_matrix = confusion_matrix(y_test, knn_yhat, labels = [0, 1]) # K-Nearest Neighbors\n",
        "lr_matrix = confusion_matrix(y_test, lr_yhat, labels = [0, 1]) # Logistic Regression\n",
        "svm_matrix = confusion_matrix(y_test, svm_yhat, labels = [0, 1]) # Support Vector Machine\n",
        "rf_matrix = confusion_matrix(y_test, rf_yhat, labels = [0, 1]) # Random Forest Tree\n",
        "xgb_matrix = confusion_matrix(y_test, xgb_yhat, labels = [0, 1]) # XGBoost\n",
        "\n",
        "# Plot the confusion matrix (SEC6201_UNDERGRADUATEPROJECT_FINALREPORT_2220020)\n",
        "\n",
        "plt.rcParams['figure.figsize'] = (6, 6)\n",
        "\n",
        "# 1. Decision tree (SEC6201_UNDERGRADUATEPROJECT_FINALREPORT_2220020)\n",
        "\n",
        "tree_cm_plot = plot_confusion_matrix(tree_matrix, \n",
        "                                classes = ['Non-Default(0)','Default(1)'], \n",
        "                                normalize = False, title = 'Decision Tree')\n",
        "plt.savefig('tree_cm_plot.png')\n",
        "plt.show()\n",
        "\n",
        "# 2. K-Nearest Neighbors (SEC6201_UNDERGRADUATEPROJECT_FINALREPORT_2220020)\n",
        "\n",
        "knn_cm_plot = plot_confusion_matrix(knn_matrix, \n",
        "                                classes = ['Non-Default(0)','Default(1)'], \n",
        "                                normalize = False, title = 'KNN')\n",
        "plt.savefig('knn_cm_plot.png')\n",
        "plt.show()\n",
        "\n",
        "# 3. Logistic regression (SEC6201_UNDERGRADUATEPROJECT_FINALREPORT_2220020)\n",
        "\n",
        "lr_cm_plot = plot_confusion_matrix(lr_matrix, \n",
        "                                classes = ['Non-Default(0)','Default(1)'], \n",
        "                                normalize = False, title = 'Logistic Regression')\n",
        "plt.savefig('lr_cm_plot.png')\n",
        "plt.show()\n",
        "\n",
        "# 4. Support Vector Machine (SEC6201_UNDERGRADUATEPROJECT_FINALREPORT_2220020)\n",
        "\n",
        "svm_cm_plot = plot_confusion_matrix(svm_matrix, \n",
        "                                classes = ['Non-Default(0)','Default(1)'], \n",
        "                                normalize = False, title = 'SVM')\n",
        "plt.savefig('svm_cm_plot.png')\n",
        "plt.show()\n",
        "\n",
        "# 5. Random forest tree (SEC6201_UNDERGRADUATEPROJECT_FINALREPORT_2220020)\n",
        "\n",
        "rf_cm_plot = plot_confusion_matrix(rf_matrix, \n",
        "                                classes = ['Non-Default(0)','Default(1)'], \n",
        "                                normalize = False, title = 'Random Forest Tree')\n",
        "plt.savefig('rf_cm_plot.png')\n",
        "plt.show()\n",
        "\n",
        "# 6. XGBoost (SEC6201_UNDERGRADUATEPROJECT_FINALREPORT_2220020)\n",
        "\n",
        "xgb_cm_plot = plot_confusion_matrix(xgb_matrix, \n",
        "                                classes = ['Non-Default(0)','Default(1)'], \n",
        "                                normalize = False, title = 'XGBoost')\n",
        "plt.savefig('xgb_cm_plot.png')\n",
        "plt.show()"
      ],
      "metadata": {
        "colab": {
          "base_uri": "https://localhost:8080/",
          "height": 1000
        },
        "id": "u9BFJrdaXrnc",
        "outputId": "4ac1db54-5f2f-4290-d38d-9fce86e88a10"
      },
      "execution_count": null,
      "outputs": [
        {
          "output_type": "display_data",
          "data": {
            "text/plain": [
              "<Figure size 600x600 with 2 Axes>"
            ],
            "image/png": "[encoded data removed]"
          },
          "metadata": {}
        },
        {
          "output_type": "display_data",
          "data": {
            "text/plain": [
              "<Figure size 600x600 with 2 Axes>"
            ],
            "image/png": "[encoded data removed]"
          },
          "metadata": {}
        },
        {
          "output_type": "display_data",
          "data": {
            "text/plain": [
              "<Figure size 600x600 with 2 Axes>"
            ],
            "image/png": "[encoded data removed]"
          },
          "metadata": {}
        },
        {
          "output_type": "display_data",
          "data": {
            "text/plain": [
              "<Figure size 600x600 with 2 Axes>"
            ],
            "image/png": "[encoded data removed]"
          },
          "metadata": {}
        },
        {
          "output_type": "display_data",
          "data": {
            "text/plain": [
              "<Figure size 600x600 with 2 Axes>"
            ],
            "image/png": "[encoded data removed]"
          },
          "metadata": {}
        },
        {
          "output_type": "display_data",
          "data": {
            "text/plain": [
              "<Figure size 600x600 with 2 Axes>"
            ],
            "image/png": "[encoded data removed]"
          },
          "metadata": {}
        }
      ]
    },
    {
      "cell_type": "code",
      "source": [
        "#computing and displaying confusion matrix for the Decision Tree model \n",
        "\n",
        "tree_matrix = confusion_matrix(y_test, tree_yhat, labels = [0, 1])\n",
        "print(tree_matrix)"
      ],
      "metadata": {
        "colab": {
          "base_uri": "https://localhost:8080/"
        },
        "id": "fA9kKKgAejCT",
        "outputId": "86e09123-aa66-4dd9-b291-908abb542b7d"
      },
      "execution_count": null,
      "outputs": [
        {
          "output_type": "stream",
          "name": "stdout",
          "text": [
            "[[56849    12]\n",
            " [   24    77]]\n"
          ]
        }
      ]
    },
    {
      "cell_type": "code",
      "source": [
        "#computing and displaying confusion matrix for the K-Nearest Neighbors model (SEC6201_UNDERGRADUATEPROJECT_FINALREPORT_2220020)\n",
        "\n",
        "knn_matrix = confusion_matrix(y_test, knn_yhat, labels = [0, 1]) \n",
        "print(knn_matrix)"
      ],
      "metadata": {
        "colab": {
          "base_uri": "https://localhost:8080/"
        },
        "id": "-4bpu7k0hpZh",
        "outputId": "8504c390-5fcb-413a-b56b-c6dd11dfdca9"
      },
      "execution_count": null,
      "outputs": [
        {
          "output_type": "stream",
          "name": "stdout",
          "text": [
            "[[56854     7]\n",
            " [   20    81]]\n"
          ]
        }
      ]
    },
    {
      "cell_type": "code",
      "source": [
        "#computing and displaying confusion matrix for the Logistic Regression model (SEC6201_UNDERGRADUATEPROJECT_FINALREPORT_2220020)\n",
        "\n",
        "lr_matrix = confusion_matrix(y_test, lr_yhat, labels = [0, 1]) \n",
        "print(lr_matrix)"
      ],
      "metadata": {
        "colab": {
          "base_uri": "https://localhost:8080/"
        },
        "id": "aCsmd74oh3Lu",
        "outputId": "a40a5a90-344a-4564-883a-467b38a72ac6"
      },
      "execution_count": null,
      "outputs": [
        {
          "output_type": "stream",
          "name": "stdout",
          "text": [
            "[[56852     9]\n",
            " [   37    64]]\n"
          ]
        }
      ]
    },
    {
      "cell_type": "code",
      "source": [
        "#computing and displaying confusion matrix for the Support Vector Machine model (SEC6201_UNDERGRADUATEPROJECT_FINALREPORT_2220020)\n",
        "\n",
        "svm_matrix = confusion_matrix(y_test, svm_yhat, labels = [0, 1]) \n",
        "print(svm_matrix)"
      ],
      "metadata": {
        "colab": {
          "base_uri": "https://localhost:8080/"
        },
        "id": "pYQLSFy4kfMN",
        "outputId": "3c026ef6-1741-47d9-bd9f-5d5b1cb5af48"
      },
      "execution_count": null,
      "outputs": [
        {
          "output_type": "stream",
          "name": "stdout",
          "text": [
            "[[56855     6]\n",
            " [   33    68]]\n"
          ]
        }
      ]
    },
    {
      "cell_type": "code",
      "source": [
        "#computing and displaying confusion matrix for the Random Forest Tree model (SEC6201_UNDERGRADUATEPROJECT_FINALREPORT_2220020)\n",
        "\n",
        "rf_matrix = confusion_matrix(y_test, rf_yhat, labels = [0, 1]) \n",
        "print(rf_matrix)"
      ],
      "metadata": {
        "colab": {
          "base_uri": "https://localhost:8080/"
        },
        "id": "u7qURDpNiCjX",
        "outputId": "a2bb0def-aa84-4678-d260-e8aab9af9e63"
      },
      "execution_count": null,
      "outputs": [
        {
          "output_type": "stream",
          "name": "stdout",
          "text": [
            "[[56854     7]\n",
            " [   33    68]]\n"
          ]
        }
      ]
    },
    {
      "cell_type": "code",
      "source": [
        "#computing and displaying confusion matrix for the XGBoost model (SEC6201_UNDERGRADUATEPROJECT_FINALREPORT_2220020)\n",
        "\n",
        "xgb_matrix = confusion_matrix(y_test, xgb_yhat, labels = [0, 1]) \n",
        "print(xgb_matrix)"
      ],
      "metadata": {
        "colab": {
          "base_uri": "https://localhost:8080/"
        },
        "id": "0wwUgzIviYei",
        "outputId": "d4e229d7-fcb4-4111-f6d8-e02fdb868548"
      },
      "execution_count": null,
      "outputs": [
        {
          "output_type": "stream",
          "name": "stdout",
          "text": [
            "[[56854     7]\n",
            " [   22    79]]\n"
          ]
        }
      ]
    },
    {
      "cell_type": "code",
      "source": [
        "# Getting TP, TN, FP, FN  for decision tree_matrix from the confusion matrix (SEC6201_UNDERGRADUATEPROJECT_FINALREPORT_2220020)\n",
        "TP = tree_matrix[1, 1]\n",
        "TN = tree_matrix[0, 0]\n",
        "FP = tree_matrix[0, 1]\n",
        "FN = tree_matrix[1, 0]"
      ],
      "metadata": {
        "id": "FFj509ofjvBG"
      },
      "execution_count": null,
      "outputs": []
    },
    {
      "cell_type": "code",
      "source": [
        "# Sensitivity score for decision tree_matrix (SEC6201_UNDERGRADUATEPROJECT_FINALREPORT_2220020)\n",
        "print(\"Sensitivity:-\",TP / float(TP+FN))"
      ],
      "metadata": {
        "colab": {
          "base_uri": "https://localhost:8080/"
        },
        "id": "elTv8Vc1mZqH",
        "outputId": "ec7ec947-8503-4262-c2d1-0746557e01ca"
      },
      "execution_count": null,
      "outputs": [
        {
          "output_type": "stream",
          "name": "stdout",
          "text": [
            "Sensitivity:- 0.7623762376237624\n"
          ]
        }
      ]
    },
    {
      "cell_type": "code",
      "source": [
        "# Specificity score for decision tree_matrix (SEC6201_UNDERGRADUATEPROJECT_FINALREPORT_2220020)\n",
        "print(\"Specificity:-\", TN / float(TN+FP))"
      ],
      "metadata": {
        "colab": {
          "base_uri": "https://localhost:8080/"
        },
        "id": "XYFpa6cAmmI2",
        "outputId": "b0cae792-32e0-4ee4-b808-f62d44a50fda"
      },
      "execution_count": null,
      "outputs": [
        {
          "output_type": "stream",
          "name": "stdout",
          "text": [
            "Specificity:- 0.999788959040467\n"
          ]
        }
      ]
    },
    {
      "cell_type": "code",
      "source": [
        "# Precision score for decision tree_matrix (SEC6201_UNDERGRADUATEPROJECT_FINALREPORT_2220020)\n",
        "print(\"precision:-\", TP / float(TP+FP))"
      ],
      "metadata": {
        "colab": {
          "base_uri": "https://localhost:8080/"
        },
        "id": "3ess48zhpKS_",
        "outputId": "1a6a96d6-7ed5-4e2e-eb31-b0aa5a7dab9f"
      },
      "execution_count": null,
      "outputs": [
        {
          "output_type": "stream",
          "name": "stdout",
          "text": [
            "precision:- 0.8651685393258427\n"
          ]
        }
      ]
    },
    {
      "cell_type": "code",
      "source": [
        "# Getting TP, TN, FP, FN  for  k-nearest neigbor KNN_matrix from the confusion matrix (SEC6201_UNDERGRADUATEPROJECT_FINALREPORT_2220020)\n",
        "TP = knn_matrix[1, 1]\n",
        "TN = knn_matrix[0, 0]\n",
        "FP = knn_matrix[0, 1]\n",
        "FN = knn_matrix[1, 0]"
      ],
      "metadata": {
        "id": "RiUll6n8qwDw"
      },
      "execution_count": null,
      "outputs": []
    },
    {
      "cell_type": "code",
      "source": [
        "# Sensitivity score for KNN_matrix (SEC6201_UNDERGRADUATEPROJECT_FINALREPORT_2220020)\n",
        "print(\"Sensitivity:-\",TP / float(TP+FN))"
      ],
      "metadata": {
        "colab": {
          "base_uri": "https://localhost:8080/"
        },
        "id": "dkRREUrJrJww",
        "outputId": "f1aa8919-2280-48d1-db49-e8f9dd610bac"
      },
      "execution_count": null,
      "outputs": [
        {
          "output_type": "stream",
          "name": "stdout",
          "text": [
            "Sensitivity:- 0.801980198019802\n"
          ]
        }
      ]
    },
    {
      "cell_type": "code",
      "source": [
        "# Specificity score for KNN_matrix (SEC6201_UNDERGRADUATEPROJECT_FINALREPORT_2220020)\n",
        "print(\"Specificity:-\", TN / float(TN+FP))"
      ],
      "metadata": {
        "colab": {
          "base_uri": "https://localhost:8080/"
        },
        "id": "c7YJ5yxhrnmo",
        "outputId": "eae4d7f7-ed22-4648-e3c9-f6d7cfee7d0d"
      },
      "execution_count": null,
      "outputs": [
        {
          "output_type": "stream",
          "name": "stdout",
          "text": [
            "Specificity:- 0.9998768927736058\n"
          ]
        }
      ]
    },
    {
      "cell_type": "code",
      "source": [
        "# Precision score for KNN_matrix (SEC6201_UNDERGRADUATEPROJECT_FINALREPORT_2220020)\n",
        "print(\"precision:-\", TP / float(TP+FP))"
      ],
      "metadata": {
        "colab": {
          "base_uri": "https://localhost:8080/"
        },
        "id": "7HuQsb6NrxTB",
        "outputId": "0a0dadc0-3a54-40d0-f0e3-94f0b287dc98"
      },
      "execution_count": null,
      "outputs": [
        {
          "output_type": "stream",
          "name": "stdout",
          "text": [
            "precision:- 0.9204545454545454\n"
          ]
        }
      ]
    },
    {
      "cell_type": "code",
      "source": [
        "# Getting TP, TN, FP, FN  for logistic regression lr_matrix from the confusion matrix (SEC6201_UNDERGRADUATEPROJECT_FINALREPORT_2220020)\n",
        "TP = lr_matrix[1, 1]\n",
        "TN = lr_matrix[0, 0]\n",
        "FP = lr_matrix[0, 1]\n",
        "FN = lr_matrix[1, 0]"
      ],
      "metadata": {
        "id": "gAG4dWZEs4N1"
      },
      "execution_count": null,
      "outputs": []
    },
    {
      "cell_type": "code",
      "source": [
        "# Sensitivity score for lr_matrix (SEC6201_UNDERGRADUATEPROJECT_FINALREPORT_2220020)\n",
        "print(\"Sensitivity:-\",TP / float(TP+FN))"
      ],
      "metadata": {
        "colab": {
          "base_uri": "https://localhost:8080/"
        },
        "id": "b5FUPr1wtZ2B",
        "outputId": "1c07d62d-db81-48c7-edb6-3763ae58cdbe"
      },
      "execution_count": null,
      "outputs": [
        {
          "output_type": "stream",
          "name": "stdout",
          "text": [
            "Sensitivity:- 0.6336633663366337\n"
          ]
        }
      ]
    },
    {
      "cell_type": "code",
      "source": [
        "# Specificity score for lr_matrix (SEC6201_UNDERGRADUATEPROJECT_FINALREPORT_2220020)\n",
        "print(\"Specificity:-\", TN / float(TN+FP))"
      ],
      "metadata": {
        "colab": {
          "base_uri": "https://localhost:8080/"
        },
        "id": "yIc5RcSDt2PP",
        "outputId": "f02b09e1-d329-41a7-be93-aee9382e026f"
      },
      "execution_count": null,
      "outputs": [
        {
          "output_type": "stream",
          "name": "stdout",
          "text": [
            "Specificity:- 0.9998417192803504\n"
          ]
        }
      ]
    },
    {
      "cell_type": "code",
      "source": [
        "# Precision score for lr_matrix (SEC6201_UNDERGRADUATEPROJECT_FINALREPORT_2220020)\n",
        "print(\"precision:-\", TP / float(TP+FP))"
      ],
      "metadata": {
        "colab": {
          "base_uri": "https://localhost:8080/"
        },
        "id": "JTcV31dcuBHK",
        "outputId": "1758382b-9e69-438c-dbd0-3e93e6ae5539"
      },
      "execution_count": null,
      "outputs": [
        {
          "output_type": "stream",
          "name": "stdout",
          "text": [
            "precision:- 0.8767123287671232\n"
          ]
        }
      ]
    },
    {
      "cell_type": "code",
      "source": [
        "# Getting TP, TN, FP, FN  for support vector machine svm_matrix from the confusion matrix (SEC6201_UNDERGRADUATEPROJECT_FINALREPORT_2220020)\n",
        "TP = svm_matrix[1, 1]\n",
        "TN = svm_matrix[0, 0]\n",
        "FP = svm_matrix[0, 1]\n",
        "FN = svm_matrix[1, 0]"
      ],
      "metadata": {
        "id": "7Fu-uaYnuzaT"
      },
      "execution_count": null,
      "outputs": []
    },
    {
      "cell_type": "code",
      "source": [
        "# Sensitivity score for svm_matrix (SEC6201_UNDERGRADUATEPROJECT_FINALREPORT_2220020)\n",
        "print(\"Sensitivity:-\",TP / float(TP+FN))"
      ],
      "metadata": {
        "colab": {
          "base_uri": "https://localhost:8080/"
        },
        "id": "7qPclJ8cvUgY",
        "outputId": "5f840ce6-111a-4da1-f228-6c5fa17b72e2"
      },
      "execution_count": null,
      "outputs": [
        {
          "output_type": "stream",
          "name": "stdout",
          "text": [
            "Sensitivity:- 0.6732673267326733\n"
          ]
        }
      ]
    },
    {
      "cell_type": "code",
      "source": [
        "# Specificity score for svm_matrix (SEC6201_UNDERGRADUATEPROJECT_FINALREPORT_2220020)\n",
        "print(\"Specificity:-\", TN / float(TN+FP))"
      ],
      "metadata": {
        "colab": {
          "base_uri": "https://localhost:8080/"
        },
        "id": "N83l_hPavizk",
        "outputId": "6fdd7eb2-c81d-47fa-9e37-716b851b2941"
      },
      "execution_count": null,
      "outputs": [
        {
          "output_type": "stream",
          "name": "stdout",
          "text": [
            "Specificity:- 0.9998944795202336\n"
          ]
        }
      ]
    },
    {
      "cell_type": "code",
      "source": [
        "# Precision score for svm_matrix (SEC6201_UNDERGRADUATEPROJECT_FINALREPORT_2220020)\n",
        "print(\"precision:-\", TP / float(TP+FP))"
      ],
      "metadata": {
        "colab": {
          "base_uri": "https://localhost:8080/"
        },
        "id": "xqdi1EjOvqko",
        "outputId": "3f700499-6d1f-4aa4-aa2d-fa36b24cbfe1"
      },
      "execution_count": null,
      "outputs": [
        {
          "output_type": "stream",
          "name": "stdout",
          "text": [
            "precision:- 0.918918918918919\n"
          ]
        }
      ]
    },
    {
      "cell_type": "code",
      "source": [
        "# Getting TP, TN, FP, FN  for Random forest rf_matrix from the confusion matrix (SEC6201_UNDERGRADUATEPROJECT_FINALREPORT_2220020)\n",
        "TP = rf_matrix[1, 1]\n",
        "TN = rf_matrix[0, 0]\n",
        "FP = rf_matrix[0, 1]\n",
        "FN = rf_matrix[1, 0]"
      ],
      "metadata": {
        "id": "XKfQSG98xB6i"
      },
      "execution_count": null,
      "outputs": []
    },
    {
      "cell_type": "code",
      "source": [
        "# Sensitivity score for rf_matrix (SEC6201_UNDERGRADUATEPROJECT_FINALREPORT_2220020)\n",
        "print(\"Sensitivity:-\",TP / float(TP+FN))"
      ],
      "metadata": {
        "colab": {
          "base_uri": "https://localhost:8080/"
        },
        "id": "s5P8E80QxXTG",
        "outputId": "37ea0df6-cf21-4121-bee2-8f79310a97e5"
      },
      "execution_count": null,
      "outputs": [
        {
          "output_type": "stream",
          "name": "stdout",
          "text": [
            "Sensitivity:- 0.6732673267326733\n"
          ]
        }
      ]
    },
    {
      "cell_type": "code",
      "source": [
        "# Specificity score for rf_matrix (SEC6201_UNDERGRADUATEPROJECT_FINALREPORT_2220020)\n",
        "print(\"Specificity:-\", TN / float(TN+FP))"
      ],
      "metadata": {
        "colab": {
          "base_uri": "https://localhost:8080/"
        },
        "id": "OqjKwRlhxuPQ",
        "outputId": "c709de06-949b-4b7f-fece-fc629f4e8c7a"
      },
      "execution_count": null,
      "outputs": [
        {
          "output_type": "stream",
          "name": "stdout",
          "text": [
            "Specificity:- 0.9998768927736058\n"
          ]
        }
      ]
    },
    {
      "cell_type": "code",
      "source": [
        "# Precision score for rf_matrix (SEC6201_UNDERGRADUATEPROJECT_FINALREPORT_2220020)\n",
        "print(\"precision:-\", TP / float(TP+FP))"
      ],
      "metadata": {
        "colab": {
          "base_uri": "https://localhost:8080/"
        },
        "id": "Mzy6OdWzx2jQ",
        "outputId": "3050d1a7-0b2f-40a4-d50e-448466a13c09"
      },
      "execution_count": null,
      "outputs": [
        {
          "output_type": "stream",
          "name": "stdout",
          "text": [
            "precision:- 0.9066666666666666\n"
          ]
        }
      ]
    },
    {
      "cell_type": "code",
      "source": [
        "# Getting TP, TN, FP, FN  for XGboost xgb_matrix from the confusion matrix (SEC6201_UNDERGRADUATEPROJECT_FINALREPORT_2220020)\n",
        "TP = xgb_matrix[1, 1]\n",
        "TN = xgb_matrix[0, 0]\n",
        "FP = xgb_matrix[0, 1]\n",
        "FN = xgb_matrix[1, 0]"
      ],
      "metadata": {
        "id": "hZ5mbWyryTEC"
      },
      "execution_count": null,
      "outputs": []
    },
    {
      "cell_type": "code",
      "source": [
        "# Sensitivity score for xgb_matrix (SEC6201_UNDERGRADUATEPROJECT_FINALREPORT_2220020)\n",
        "print(\"Sensitivity:-\",TP / float(TP+FN))"
      ],
      "metadata": {
        "colab": {
          "base_uri": "https://localhost:8080/"
        },
        "id": "_7OeZkACy1o3",
        "outputId": "6cf2398d-3f88-43d6-e530-124d5e6952a4"
      },
      "execution_count": null,
      "outputs": [
        {
          "output_type": "stream",
          "name": "stdout",
          "text": [
            "Sensitivity:- 0.7821782178217822\n"
          ]
        }
      ]
    },
    {
      "cell_type": "code",
      "source": [
        "# Specificity score for xgb_matrix (SEC6201_UNDERGRADUATEPROJECT_FINALREPORT_2220020)\n",
        "print(\"Specificity:-\", TN / float(TN+FP))"
      ],
      "metadata": {
        "colab": {
          "base_uri": "https://localhost:8080/"
        },
        "id": "MNUTaYlQy7V-",
        "outputId": "ba5cd3ea-2b72-4da4-c22d-6cb5179128d6"
      },
      "execution_count": null,
      "outputs": [
        {
          "output_type": "stream",
          "name": "stdout",
          "text": [
            "Specificity:- 0.9998768927736058\n"
          ]
        }
      ]
    },
    {
      "cell_type": "code",
      "source": [
        "# Precision score for xgb_matrix (SEC6201_UNDERGRADUATEPROJECT_FINALREPORT_2220020)\n",
        "print(\"precision:-\", TP / float(TP+FP))"
      ],
      "metadata": {
        "colab": {
          "base_uri": "https://localhost:8080/"
        },
        "id": "ibwv1HR3zAfH",
        "outputId": "759de172-13d4-4bfd-e640-cdbe1c2985e7"
      },
      "execution_count": null,
      "outputs": [
        {
          "output_type": "stream",
          "name": "stdout",
          "text": [
            "precision:- 0.9186046511627907\n"
          ]
        }
      ]
    },
    {
      "cell_type": "code",
      "source": [
        "#Tabulating and displaying model performance metrics (SEC6201_UNDERGRADUATEPROJECT_FINALREPORT_2220020)\n",
        "\n",
        "from tabulate import tabulate\n",
        "\n",
        "headers = [\"Model\", \"Accuracy Score\", \"F1 Score\", \"Sensitivity\", \"Specificity\", \"precision\"  ]\n",
        "rows = [\n",
        "    [\"Decision Tree\", 0.9993679997191109, 0.8105263157894738, 0.7623762376237624, 0.999788959040467, 0.8651685393258427],\n",
        "    [\"K-Nearest Neighbors\", 0.9995259997893332, 0.8571428571428572, 0.801980198019802, 0.9998768927736058, 0.9204545454545454 ],\n",
        "    [\"Logistic Regression\", 0.9991924440855307, 0.7356321839080459, 0.6336633663366337, 0.9998417192803504, 0.8767123287671232],\n",
        "    [\"SVM\", 0.9993153330290369, 0.7771428571428572, 0.6732673267326733, 0.9998944795202336, 0.918918918918919],\n",
        "    [\"Random Forest Tree\", 0.9992977774656788, 0.7727272727272727, 0.6732673267326733, 0.9998768927736058, 0.9066666666666666],\n",
        "    [\"XGBoost\", 0.9994908886626171, 0.8449197860962566, 0.7821782178217822, 0.9998768927736058, 0.9186046511627907]\n",
        "]\n",
        "\n",
        "print(tabulate(rows, headers=headers))"
      ],
      "metadata": {
        "colab": {
          "base_uri": "https://localhost:8080/"
        },
        "id": "Uyee6BEEbFnY",
        "outputId": "b751f8db-a386-48fd-f6c8-82639b2a3cb7"
      },
      "execution_count": null,
      "outputs": [
        {
          "output_type": "stream",
          "name": "stdout",
          "text": [
            "Model                  Accuracy Score    F1 Score    Sensitivity    Specificity    precision\n",
            "-------------------  ----------------  ----------  -------------  -------------  -----------\n",
            "Decision Tree                0.999368    0.810526       0.762376       0.999789     0.865169\n",
            "K-Nearest Neighbors          0.999526    0.857143       0.80198        0.999877     0.920455\n",
            "Logistic Regression          0.999192    0.735632       0.633663       0.999842     0.876712\n",
            "SVM                          0.999315    0.777143       0.673267       0.999894     0.918919\n",
            "Random Forest Tree           0.999298    0.772727       0.673267       0.999877     0.906667\n",
            "XGBoost                      0.999491    0.84492        0.782178       0.999877     0.918605\n"
          ]
        }
      ]
    },
    {
      "cell_type": "code",
      "source": [
        "# Performance display of the best model KNN using ROC curve (SEC6201_UNDERGRADUATEPROJECT_FINALREPORT_2220020)\n",
        "\n",
        "from sklearn.metrics import roc_curve, auc\n",
        "from sklearn.neighbors import KNeighborsClassifier\n",
        "\n",
        "# Assume X_train, X_test, y_train, y_test are the training and testing data, respectively\n",
        "knn = KNeighborsClassifier(n_neighbors=5)\n",
        "knn.fit(X_train, y_train)\n",
        "\n",
        "# Predict the labels for the test set\n",
        "y_pred = knn.predict(X_test)\n",
        "\n",
        "# Calculate the ROC curve and AUC for the KNN model\n",
        "fpr, tpr, thresholds = roc_curve(y_test, y_pred)\n",
        "roc_auc = auc(fpr, tpr)"
      ],
      "metadata": {
        "id": "owLpkx28EOHo"
      },
      "execution_count": null,
      "outputs": []
    },
    {
      "cell_type": "code",
      "source": [
        "# Visualisation of the KNN ROC curve (SEC6201_UNDERGRADUATEPROJECT_FINALREPORT_2220020)\n",
        "\n",
        "import matplotlib.pyplot as plt\n",
        "\n",
        "# Plot the ROC curve\n",
        "plt.plot(fpr, tpr, label='ROC curve (area = %0.2f)' % roc_auc)\n",
        "plt.plot([0, 1], [0, 1], 'k--')\n",
        "plt.xlim([0.0, 1.0])\n",
        "plt.ylim([0.0, 1.05])\n",
        "plt.xlabel('False Positive Rate')\n",
        "plt.ylabel('True Positive Rate')\n",
        "plt.title('Receiver operating characteristic')\n",
        "plt.legend(loc=\"lower right\")\n",
        "plt.show()"
      ],
      "metadata": {
        "colab": {
          "base_uri": "https://localhost:8080/",
          "height": 564
        },
        "id": "1c_E1CP5GDaG",
        "outputId": "fd24cc72-3460-483f-e85e-d50c3395724c"
      },
      "execution_count": null,
      "outputs": [
        {
          "output_type": "display_data",
          "data": {
            "text/plain": [
              "<Figure size 600x600 with 1 Axes>"
            ],
            "image/png": "[encoded data removed]"
          },
          "metadata": {}
        }
      ]
    }
  ]
}